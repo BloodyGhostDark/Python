{
 "cells": [
  {
   "cell_type": "code",
   "execution_count": 14,
   "metadata": {},
   "outputs": [
    {
     "name": "stdout",
     "output_type": "stream",
     "text": [
      "[0. 0. 0. 0. 0. 0.]\n",
      "[[[6.23042070e-307 1.86918699e-306 1.69121096e-306 1.29061074e-306]\n",
      "  [1.69119873e-306 1.78019082e-306 7.56587585e-307 1.37961302e-306]\n",
      "  [1.05699242e-307 8.01097889e-307 1.78020169e-306 7.56601165e-307]]\n",
      "\n",
      " [[1.02359984e-306 1.33510679e-306 2.22522597e-306 1.33511018e-306]\n",
      "  [6.23057689e-307 9.45754852e-308 1.27946076e-307 1.05700515e-307]\n",
      "  [1.11261774e-306 1.29060871e-306 8.34424766e-308 2.12203497e-312]]]\n",
      "[2 4 6 8]\n"
     ]
    }
   ],
   "source": [
    "import numpy as np\n",
    "z=np.zeros(6)\n",
    "print(z) #零\n",
    "print(np.empty((2,3,4))) #幾維陳列,幾筆資料,每筆資料有多少\n",
    "print(np.arange(2,10,2)) #序列"
   ]
  },
  {
   "cell_type": "markdown",
   "metadata": {},
   "source": [
    "# ndarray的進階操作"
   ]
  },
  {
   "cell_type": "code",
   "execution_count": 16,
   "metadata": {},
   "outputs": [
    {
     "name": "stdout",
     "output_type": "stream",
     "text": [
      "[0 1 2 3 4 5 6 7 8 9]\n",
      "0\n",
      "[0 1 2 3 4]\n"
     ]
    }
   ],
   "source": [
    "my_array=np.arange(10)\n",
    "print(my_array)\n",
    "print(my_array[0])\n",
    "print(my_array[0:5])"
   ]
  },
  {
   "cell_type": "code",
   "execution_count": 20,
   "metadata": {},
   "outputs": [
    {
     "name": "stdout",
     "output_type": "stream",
     "text": [
      "[[0 1 2 3 4]\n",
      " [5 6 7 8 9]]\n",
      "[5 6 7 8 9]\n",
      "[1 6]\n",
      "6\n"
     ]
    }
   ],
   "source": [
    "my_2d_array= np.array([np.arange(0,5), np.arange(5,10)])\n",
    "print(my_2d_array)\n",
    "print(my_2d_array[1,:])\n",
    "print(my_2d_array[:,1])\n",
    "print(my_2d_array[1,1])"
   ]
  },
  {
   "cell_type": "code",
   "execution_count": 25,
   "metadata": {
    "scrolled": true
   },
   "outputs": [
    {
     "name": "stdout",
     "output_type": "stream",
     "text": [
      "[0 1 2 3 4 5 6 7 8 9]\n",
      " \n",
      "(10,)\n",
      " \n",
      "[[0 1 2 3 4]\n",
      " [5 6 7 8 9]]\n",
      " \n",
      "[[ 0  1  2  3  4  5  6  7  8  9]\n",
      " [10 11 12 13 14 15 16 17 18 19]\n",
      " [20 21 22 23 24 25 26 27 28 29]\n",
      " [30 31 32 33 34 35 36 37 38 39]\n",
      " [40 41 42 43 44 45 46 47 48 49]\n",
      " [50 51 52 53 54 55 56 57 58 59]\n",
      " [60 61 62 63 64 65 66 67 68 69]\n",
      " [70 71 72 73 74 75 76 77 78 79]\n",
      " [80 81 82 83 84 85 86 87 88 89]\n",
      " [90 91 92 93 94 95 96 97 98 99]]\n"
     ]
    }
   ],
   "source": [
    "my_array=np.arange(0,10)\n",
    "print(my_array)\n",
    "print(\" \")\n",
    "print(my_array.shape)\n",
    "print(\" \")\n",
    "my_2d_array= my_array.reshape(2,5)\n",
    "print(my_2d_array)\n",
    "print(\" \")\n",
    "print((np.arange(0,100).reshape(10,10)))"
   ]
  },
  {
   "cell_type": "markdown",
   "metadata": {},
   "source": [
    "# numpy 的空值nan\n"
   ]
  },
  {
   "cell_type": "code",
   "execution_count": 28,
   "metadata": {},
   "outputs": [
    {
     "name": "stdout",
     "output_type": "stream",
     "text": [
      "[56.  8. 19. 14. nan]\n"
     ]
    }
   ],
   "source": [
    "b = np.array([56,8,19,14,np.nan])\n",
    "print(b)"
   ]
  },
  {
   "cell_type": "code",
   "execution_count": null,
   "metadata": {},
   "outputs": [],
   "source": []
  }
 ],
 "metadata": {
  "kernelspec": {
   "display_name": "Python 3",
   "language": "python",
   "name": "python3"
  },
  "language_info": {
   "codemirror_mode": {
    "name": "ipython",
    "version": 3
   },
   "file_extension": ".py",
   "mimetype": "text/x-python",
   "name": "python",
   "nbconvert_exporter": "python",
   "pygments_lexer": "ipython3",
   "version": "3.8.5"
  }
 },
 "nbformat": 4,
 "nbformat_minor": 4
}
